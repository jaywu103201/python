{
  "nbformat": 4,
  "nbformat_minor": 0,
  "metadata": {
    "colab": {
      "name": "20200920_6.ipynb",
      "provenance": [],
      "authorship_tag": "ABX9TyOsNfe6t0od0rtyMGMypfAm",
      "include_colab_link": true
    },
    "kernelspec": {
      "name": "python3",
      "display_name": "Python 3"
    }
  },
  "cells": [
    {
      "cell_type": "markdown",
      "metadata": {
        "id": "view-in-github",
        "colab_type": "text"
      },
      "source": [
        "<a href=\"https://colab.research.google.com/github/jaywu103201/python/blob/master/20200920_6.ipynb\" target=\"_parent\"><img src=\"https://colab.research.google.com/assets/colab-badge.svg\" alt=\"Open In Colab\"/></a>"
      ]
    },
    {
      "cell_type": "markdown",
      "metadata": {
        "id": "vgIP9yWSJCmF",
        "colab_type": "text"
      },
      "source": [
        "## 20200920\n"
      ]
    },
    {
      "cell_type": "markdown",
      "metadata": {
        "id": "B85WU3VwJFRr",
        "colab_type": "text"
      },
      "source": [
        "恩師最偉大"
      ]
    },
    {
      "cell_type": "markdown",
      "metadata": {
        "id": "QMsQ3mJiJJgh",
        "colab_type": "text"
      },
      "source": [
        "# [1]使用Python程式與內建函數進行ASCII的編碼與解碼"
      ]
    },
    {
      "cell_type": "code",
      "metadata": {
        "id": "18swuB55I6ty",
        "colab_type": "code",
        "colab": {
          "base_uri": "https://localhost:8080/",
          "height": 35
        },
        "outputId": "00b6ecac-0b3f-41df-8662-82d9b076bc0e"
      },
      "source": [
        "\n",
        "\n",
        "chr(97)\n",
        "\n",
        "chr(66)\n",
        "\n",
        "#ord('a')\n",
        "#print(bin(ord('a')))\n",
        "#oct(ord('a'))\n",
        "print(hex(ord('a')))"
      ],
      "execution_count": 2,
      "outputs": [
        {
          "output_type": "stream",
          "text": [
            "0x61\n"
          ],
          "name": "stdout"
        }
      ]
    },
    {
      "cell_type": "markdown",
      "metadata": {
        "id": "Kll-Gve0JRVc",
        "colab_type": "text"
      },
      "source": [
        "# 編碼與解碼 101---ASCII編碼解題"
      ]
    },
    {
      "cell_type": "markdown",
      "metadata": {
        "id": "IFzT8H9FJSsJ",
        "colab_type": "text"
      },
      "source": [
        "字串的分割"
      ]
    },
    {
      "cell_type": "code",
      "metadata": {
        "id": "uDsY-9enJY-o",
        "colab_type": "code",
        "colab": {}
      },
      "source": [
        "a=\"66 114\".split(\"\")\n",
        "a\n",
        "\n",
        "a=\"66 114\".split(\"  \")\n",
        "a\n",
        "\n",
        "a=\"66 114\".split(\" \")\n",
        "a\n",
        "type(a)"
      ],
      "execution_count": null,
      "outputs": []
    },
    {
      "cell_type": "markdown",
      "metadata": {
        "id": "h4_0ggNSJZlv",
        "colab_type": "text"
      },
      "source": [
        "把每一個分割後的字串==轉成整數後===再編碼出ASCII的字"
      ]
    },
    {
      "cell_type": "code",
      "metadata": {
        "id": "a9fzNL5kJbNc",
        "colab_type": "code",
        "colab": {}
      },
      "source": [
        "a=\"66 114\".split(\" \")\n",
        "\n",
        "result=''\n",
        "\n",
        "for x in a:\n",
        "  y=chr(int(x))\n",
        "  result += y\n",
        "# result = result + y \n",
        "\n",
        "result"
      ],
      "execution_count": null,
      "outputs": []
    },
    {
      "cell_type": "markdown",
      "metadata": {
        "id": "g3Pq4J7QJksY",
        "colab_type": "text"
      },
      "source": [
        "最後的解答"
      ]
    },
    {
      "cell_type": "code",
      "metadata": {
        "id": "RmvN3tbFJmc-",
        "colab_type": "code",
        "colab": {
          "base_uri": "https://localhost:8080/",
          "height": 35
        },
        "outputId": "b4fea374-3afd-422a-b61f-5cb24c723580"
      },
      "source": [
        "#!/usr/bin/python\n",
        "\n",
        "c = '66 114 101 97 107 65 76 76 67 84 70 123 65 109 118 48 117 68 121 101 114 118 80 116 109 86 114 57 83 83 83 75 125'\n",
        "\n",
        "flag = \"\"\n",
        "\n",
        "for _ in c.split(' '):\n",
        "  flag += chr(int(_))\n",
        "\n",
        "print(flag)"
      ],
      "execution_count": 5,
      "outputs": [
        {
          "output_type": "stream",
          "text": [
            "BreakALLCTF{Amv0uDyervPtmVr9SSSK}\n"
          ],
          "name": "stdout"
        }
      ]
    },
    {
      "cell_type": "code",
      "metadata": {
        "id": "H00PcGdxJor6",
        "colab_type": "code",
        "colab": {
          "base_uri": "https://localhost:8080/",
          "height": 54
        },
        "outputId": "f41e3ffb-f18e-49cf-feb7-debb4da02b54"
      },
      "source": [
        "print(flag)\n",
        "#!/usr/bin/python\n",
        "\n",
        "c = '66 114 101 97 107 65 76 76 67 84 70 123 65 109 118 48 117 68 121 101 114 118 80 116 109 86 114 57 83 83 83 75 125'\n",
        "\n",
        "flag = \"\"\n",
        "\n",
        "for x in c.split(' '):\n",
        "  flag += chr(int(x))\n",
        "\n",
        "print(flag)"
      ],
      "execution_count": 6,
      "outputs": [
        {
          "output_type": "stream",
          "text": [
            "BreakALLCTF{Amv0uDyervPtmVr9SSSK}\n",
            "BreakALLCTF{Amv0uDyervPtmVr9SSSK}\n"
          ],
          "name": "stdout"
        }
      ]
    },
    {
      "cell_type": "markdown",
      "metadata": {
        "id": "qJhJnEjsJ3WX",
        "colab_type": "text"
      },
      "source": [
        "# Python 標準函式庫 (Standard Library)"
      ]
    },
    {
      "cell_type": "markdown",
      "metadata": {
        "id": "KOXdTtSyJ4rt",
        "colab_type": "text"
      },
      "source": [
        "Python 標準函式庫 (Standard Library)"
      ]
    },
    {
      "cell_type": "code",
      "metadata": {
        "id": "MzWV6QAZKLZt",
        "colab_type": "code",
        "colab": {}
      },
      "source": [
        "C++ 有強大的標準模板庫(Standard Template Library，STL）\n",
        "\n",
        "Python也有強大的標準函式庫 (Standard Library)\n",
        "\n",
        "本課程示範幾個範例,帶你認識Python 標準函式庫\n",
        "\n",
        "推薦書籍與資源\n",
        "\n",
        "[1]官方說明\n",
        "英文 https://docs.python.org/3/library/\n",
        "中文 https://docs.python.org/zh-tw/3/library/index.html\n",
        "\n",
        "[2]厚達上千頁的範例示範說明書\n",
        "\n",
        "The Python 3 Standard Library By Example\n",
        "Doug Hellmann\n",
        "\n",
        "https://pymotw.com/3/\n",
        "https://bitbucket.org/dhellmann/pymotw-3/src/master/"
      ],
      "execution_count": null,
      "outputs": []
    },
    {
      "cell_type": "markdown",
      "metadata": {
        "id": "V3j5pQ_aKNkQ",
        "colab_type": "text"
      },
      "source": [
        "Python 標準函式庫的Base 64 模組"
      ]
    },
    {
      "cell_type": "code",
      "metadata": {
        "id": "mrI6IinnKO_S",
        "colab_type": "code",
        "colab": {}
      },
      "source": [
        "What does the 'b' character do in front of a string literal?\n",
        "\n",
        "https://stackoverflow.com/questions/6269765/what-does-the-b-character-do-in-front-of-a-string-literal"
      ],
      "execution_count": null,
      "outputs": []
    },
    {
      "cell_type": "markdown",
      "metadata": {
        "id": "kuNIAH75KPra",
        "colab_type": "text"
      },
      "source": [
        "使用Base 64 模組編碼:b64encode()"
      ]
    },
    {
      "cell_type": "code",
      "metadata": {
        "id": "GlZMY4YqKRbb",
        "colab_type": "code",
        "colab": {}
      },
      "source": [
        "import base64\n",
        "\n",
        "data =b'BreakAllCTF{HappyPythonDay}'\n",
        "encoded_data = base64.b64encode(data)\n",
        "print('Original Data :', data)\n",
        "print('Encoded :', encoded_data)"
      ],
      "execution_count": null,
      "outputs": []
    },
    {
      "cell_type": "markdown",
      "metadata": {
        "id": "WU9GzQ_iKTjs",
        "colab_type": "text"
      },
      "source": [
        "使用Base 64 模組解碼:b64decode()"
      ]
    },
    {
      "cell_type": "code",
      "metadata": {
        "id": "qm9LG5bhKUXq",
        "colab_type": "code",
        "colab": {}
      },
      "source": [
        "import base64\n",
        "\n",
        "encoded_data = b'QnJlYWtBTExDVEZ7NTN1c1pRM2hXVzI1ZGNoWjdkWGV9'\n",
        "decoded_data = base64.b64decode(encoded_data)\n",
        "print('Encoded :', encoded_data)\n",
        "print('Decoded :', decoded_data)"
      ],
      "execution_count": null,
      "outputs": []
    },
    {
      "cell_type": "markdown",
      "metadata": {
        "id": "vbnK8TguKYZF",
        "colab_type": "text"
      },
      "source": [
        "使用Base 64 模組也可以進行Base 32編碼與解碼"
      ]
    },
    {
      "cell_type": "code",
      "metadata": {
        "id": "Uhngp7sCKZZ5",
        "colab_type": "code",
        "colab": {}
      },
      "source": [
        "import base64\n",
        "\n",
        "original_data = b'BreakAllCTF{HappyPythonDay}'\n",
        "print('Original data:', original_data)\n",
        "\n",
        "encoded_data = base64.b32encode(original_data)\n",
        "print('Encoded :', encoded_data)\n",
        "\n",
        "decoded_data = base64.b32decode(encoded_data)\n",
        "print('Decoded :', decoded_data)"
      ],
      "execution_count": null,
      "outputs": []
    },
    {
      "cell_type": "markdown",
      "metadata": {
        "id": "nMtHs-JKKt6t",
        "colab_type": "text"
      },
      "source": [
        "[3]補充教材:數字系統( number system)的轉換"
      ]
    },
    {
      "cell_type": "code",
      "metadata": {
        "id": "_6u__8-JKvIV",
        "colab_type": "code",
        "colab": {}
      },
      "source": [
        "10進位(Decimal)  二進位(binary)  八進位(Octal)  十六進位(Hexadecimal)\n",
        "\n",
        "1011(二進位) = 13(八進位) = B(十六進位) = 11(十進位)\n",
        "\n",
        "Python表示法:\n",
        "0b1011(二進位:0b開頭)  0o13(八進位:0o開頭)   0xb(十六進位:0x開頭)"
      ],
      "execution_count": null,
      "outputs": []
    },
    {
      "cell_type": "markdown",
      "metadata": {
        "id": "qryjxQVeKwIJ",
        "colab_type": "text"
      },
      "source": [
        "使用Python 內建函數(Built in Functions)解決 數字系統的轉換問題"
      ]
    },
    {
      "cell_type": "code",
      "metadata": {
        "id": "TEzAfgIkKy4F",
        "colab_type": "code",
        "colab": {}
      },
      "source": [
        "https://www.w3schools.com/python/python_ref_functions.asp\n",
        "\n",
        "bin()\n",
        "oct()\n",
        "int()\n",
        "hex()"
      ],
      "execution_count": null,
      "outputs": []
    },
    {
      "cell_type": "code",
      "metadata": {
        "id": "zu8L-QzcK0OC",
        "colab_type": "code",
        "colab": {}
      },
      "source": [
        "# 數字系統( number system)的轉換\n",
        "# 使用Python程式將10進位(Decimal)數字轉換成二進位(binary), 八進位(Octal) 及 十六進位(Hexadecimal) \n",
        "# https://www.programiz.com/python-programming/examples/conversion-binary-octal-hexadecimal\n",
        "\n",
        "bin_n = 0b1011\n",
        "\n",
        "print(\"上述二進位數字可被轉換成:\")\n",
        "print(bin_n,\"十進位(Decimal).\")\n",
        "print(oct(bin_n),\"八進位(octal).\")\n",
        "print(hex(bin_n),\"十六進位(hexadecimal).\")"
      ],
      "execution_count": null,
      "outputs": []
    },
    {
      "cell_type": "markdown",
      "metadata": {
        "id": "nLgC7tEWK2-l",
        "colab_type": "text"
      },
      "source": [
        "給你十進位的 344, 二進位(binary)|八進位(octal)|十六進位(hexadecimal)是多少?"
      ]
    },
    {
      "cell_type": "code",
      "metadata": {
        "id": "iFZjo-qTK3_-",
        "colab_type": "code",
        "colab": {}
      },
      "source": [
        "dec = 344\n",
        "\n",
        "print(\"10進位數字\",dec,\"可被轉換成:\")\n",
        "print(bin(dec),\"二進位(binary).\")\n",
        "print(oct(dec),\"八進位(octal).\")\n",
        "print(hex(dec),\"十六進位(hexadecimal).\")"
      ],
      "execution_count": null,
      "outputs": []
    },
    {
      "cell_type": "markdown",
      "metadata": {
        "id": "flfu7BQxK47k",
        "colab_type": "text"
      },
      "source": [
        "int[]內建函數"
      ]
    },
    {
      "cell_type": "code",
      "metadata": {
        "id": "1pRerDe_K7jN",
        "colab_type": "code",
        "colab": {}
      },
      "source": [
        "功能:將一個字串或數位轉換為整數型。\n",
        "\n",
        "語法: int(x, base=10)\n",
        "\n",
        "參數說明:\n",
        "x -- 字串或數位。\n",
        "base -- 進制數，預設是十進位。\n",
        "\n",
        "返回值:會返回一個整數型資料。\n"
      ],
      "execution_count": null,
      "outputs": []
    },
    {
      "cell_type": "markdown",
      "metadata": {
        "id": "516NDIP7K8kG",
        "colab_type": "text"
      },
      "source": [
        "底下程式執行結果為何?"
      ]
    },
    {
      "cell_type": "code",
      "metadata": {
        "id": "37CcZ5MvK_WL",
        "colab_type": "code",
        "colab": {
          "base_uri": "https://localhost:8080/",
          "height": 126
        },
        "outputId": "f639d2d5-8155-4141-df48-66c081db0bfd"
      },
      "source": [
        "# binary 0b or 0B\n",
        "print(\"For 1010, int is:\", int('1010', 2))\n",
        "print(\"For 0b1010, int is:\", int('0b1010', 2))\n",
        "\n",
        "# octal 0o or 0O\n",
        "print(\"For 12, int is:\", int('12', 8))\n",
        "print(\"For 0o12, int is:\", int('0o12', 8))\n",
        "\n",
        "# hexadecimal\n",
        "print(\"For A, int is:\", int('A', 16))\n",
        "print(\"For 0xA, int is:\", int('0xA', 16))"
      ],
      "execution_count": 7,
      "outputs": [
        {
          "output_type": "stream",
          "text": [
            "For 1010, int is: 10\n",
            "For 0b1010, int is: 10\n",
            "For 12, int is: 10\n",
            "For 0o12, int is: 10\n",
            "For A, int is: 10\n",
            "For 0xA, int is: 10\n"
          ],
          "name": "stdout"
        }
      ]
    }
  ]
}